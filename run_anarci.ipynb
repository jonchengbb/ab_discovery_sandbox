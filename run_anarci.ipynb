{
 "cells": [
  {
   "cell_type": "code",
   "execution_count": 1,
   "id": "179bb618",
   "metadata": {},
   "outputs": [],
   "source": [
    "from anarci_toolz.pipeline import run_anarci_toolz\n",
    "import pandas as pd\n",
    "import boto3\n",
    "\n",
    "# NI006 Antibody Sequence \n",
    "\n",
    "SAMPLE_NAME = \"NI006\"\n",
    "\n",
    "heavy='QVQLQESGPGLVKPSETLSLTCSVSGGSIISRSSYWGWIRQPPGKGLEWIGGIYHSGNTYDNPSLKSRLTMSVDTSKNQFSLNLRSVTAADTAVYYCARIVPGGDAFDIWGQGTMVTVSSASTKGPSVFPLAPSSKSTSGGTAALGCLVKDYFPEPVTVSWNSGALTSGVHTFPAVLQSSGLYSLSSVVTVPSSSLGTQTYICNVNHKPSNTKVDKKVEPKSCDKTHTCPPCPAPELLGGPSVFLFPPKPKDTLMISRTPEVTCVVVDVSHEDPEVKFNWYVDGVEVHNAKTKPREEQYNSTYRVVSVLTVLHQDWLNGKEYKCKVSNKALPAPIEKTISKAKGQPREPQVYTLPPSRDELTKNQVSLTCLVKGFYPSDIAVEWESNGQPENNYKTTPPVLDSDGSFFLYSKLTVDKSRWQQGNVFSCSVMHEALHNHYTQKSLSLSPGK'\n",
    "light='DIQMTQSPSSLSASVGDRVTIACRASQSVGTYLNWYQQKRGKAPKLLIFAASSLQSGVPSRFSGSGSGTDFTLTISSLQPEDFATYYCQQSYSSPPTFGQGTKVEIKRTVAAPSVFIFPPSDEQLKSGTASVVCLLNNFYPREAKVQWKVDNALQSGNSQESVTEQDSKDSTYSLSSTLTLSKADYEKHKVYACEVTHQGLSSPVTKSFNRGEC'\n"
   ]
  },
  {
   "cell_type": "code",
   "execution_count": 2,
   "id": "250bacc9",
   "metadata": {},
   "outputs": [
    {
     "name": "stderr",
     "output_type": "stream",
     "text": [
      "/home/ubuntu/miniforge3/envs/anarci310/lib/python3.10/site-packages/pandera/_pandas_deprecated.py:146: FutureWarning: Importing pandas-specific classes and functions from the\n",
      "top-level pandera module will be **removed in a future version of pandera**.\n",
      "If you're using pandera to validate pandas objects, we highly recommend updating\n",
      "your import:\n",
      "\n",
      "```\n",
      "# old import\n",
      "import pandera as pa\n",
      "\n",
      "# new import\n",
      "import pandera.pandas as pa\n",
      "```\n",
      "\n",
      "If you're using pandera to validate objects from other compatible libraries\n",
      "like pyspark or polars, see the supported libraries section of the documentation\n",
      "for more information on how to import pandera:\n",
      "\n",
      "https://pandera.readthedocs.io/en/stable/supported_libraries.html\n",
      "\n",
      "To disable this warning, set the environment variable:\n",
      "\n",
      "```\n",
      "export DISABLE_PANDERA_IMPORT_WARNING=True\n",
      "```\n",
      "\n",
      "  warnings.warn(_future_warning, FutureWarning)\n",
      "\u001b[32m2025-07-01 22:51:47.893\u001b[0m | \u001b[1mINFO    \u001b[0m | \u001b[36manarci_toolz.abnumber_tool\u001b[0m:\u001b[36mrun_parallel_abnumber\u001b[0m:\u001b[36m62\u001b[0m - \u001b[1mStarting AbNumber processing ...\u001b[0m\n",
      "Processing sequences: 100%|██████████| 2/2 [00:00<00:00, 1559.51seq/s]\n",
      "\u001b[32m2025-07-01 22:51:47.993\u001b[0m | \u001b[32m\u001b[1mSUCCESS \u001b[0m | \u001b[36manarci_toolz.abnumber_tool\u001b[0m:\u001b[36mparallel_get_region_seqs\u001b[0m:\u001b[36m138\u001b[0m - \u001b[32m\u001b[1mAbNumber parallel processing complete\u001b[0m\n",
      "\u001b[32m2025-07-01 22:51:48.019\u001b[0m | \u001b[1mINFO    \u001b[0m | \u001b[36manarci_toolz.anarci_tool\u001b[0m:\u001b[36mrun_parallel_anarci\u001b[0m:\u001b[36m91\u001b[0m - \u001b[1mStarting ANARCI processing ...\u001b[0m\n",
      "Processing sequences: 100%|██████████| 2/2 [00:00<00:00, 2399.49seq/s]\n",
      "\u001b[32m2025-07-01 22:51:48.093\u001b[0m | \u001b[32m\u001b[1mSUCCESS \u001b[0m | \u001b[36manarci_toolz.anarci_tool\u001b[0m:\u001b[36mrun_parallel_anarci\u001b[0m:\u001b[36m104\u001b[0m - \u001b[32m\u001b[1mANARCI parallel processing complete\u001b[0m\n",
      "\u001b[32m2025-07-01 22:51:48.106\u001b[0m | \u001b[32m\u001b[1mSUCCESS \u001b[0m | \u001b[36manarci_toolz.pipeline\u001b[0m:\u001b[36mrun_anarci_toolz\u001b[0m:\u001b[36m86\u001b[0m - \u001b[32m\u001b[1manarci-toolz run complete.\u001b[0m\n"
     ]
    }
   ],
   "source": [
    "\n",
    "data_ls = [heavy, light]\n",
    "\n",
    "df_long = pd.DataFrame({\n",
    "    \"sequence_aa\": data_ls,\n",
    "    \"chain_type_input\": [\"HeavySequence\", \"LightSequence\"]})\n",
    "\n",
    "df_result_kabat = run_anarci_toolz(\n",
    "    df=df_long,\n",
    "    scheme=\"kabat\",\n",
    "    allowed_species=[\"human\"],\n",
    "    seq_aa_header=\"sequence_aa\",\n",
    "    retain_indices=True)"
   ]
  },
  {
   "cell_type": "code",
   "execution_count": 3,
   "id": "ce2b0d76",
   "metadata": {},
   "outputs": [
    {
     "name": "stdout",
     "output_type": "stream",
     "text": [
      "QVQLQESGPGLVKPSETLSLTCSVSGGSIISRSSYWGWIRQPPGKGLEWIGGIYHSGNTYDNPSLKSRLTMSVDTSKNQFSLNLRSVTAADTAVYYCARIVPGGDAFDIWGQGTMVTVSS\n",
      "DIQMTQSPSSLSASVGDRVTIACRASQSVGTYLNWYQQKRGKAPKLLIFAASSLQSGVPSRFSGSGSGTDFTLTISSLQPEDFATYYCQQSYSSPPTFGQGTKVEIK\n"
     ]
    }
   ],
   "source": [
    "# Fetch the variable region sequence alignments\n",
    "for i in df_result_kabat['sequence_alignment_aa']:\n",
    "    print(i)"
   ]
  },
  {
   "cell_type": "code",
   "execution_count": 4,
   "id": "0f548911",
   "metadata": {},
   "outputs": [
    {
     "name": "stderr",
     "output_type": "stream",
     "text": [
      "\u001b[32m2025-07-01 22:51:52.575\u001b[0m | \u001b[1mINFO    \u001b[0m | \u001b[36manarci_toolz.abnumber_tool\u001b[0m:\u001b[36mrun_parallel_abnumber\u001b[0m:\u001b[36m62\u001b[0m - \u001b[1mStarting AbNumber processing ...\u001b[0m\n",
      "Processing sequences: 100%|██████████| 2/2 [00:00<00:00, 2083.09seq/s]\n",
      "\u001b[32m2025-07-01 22:51:52.669\u001b[0m | \u001b[32m\u001b[1mSUCCESS \u001b[0m | \u001b[36manarci_toolz.abnumber_tool\u001b[0m:\u001b[36mparallel_get_region_seqs\u001b[0m:\u001b[36m138\u001b[0m - \u001b[32m\u001b[1mAbNumber parallel processing complete\u001b[0m\n",
      "\u001b[32m2025-07-01 22:51:52.693\u001b[0m | \u001b[1mINFO    \u001b[0m | \u001b[36manarci_toolz.anarci_tool\u001b[0m:\u001b[36mrun_parallel_anarci\u001b[0m:\u001b[36m91\u001b[0m - \u001b[1mStarting ANARCI processing ...\u001b[0m\n",
      "Processing sequences: 100%|██████████| 2/2 [00:00<00:00, 2423.75seq/s]\n",
      "\u001b[32m2025-07-01 22:51:52.770\u001b[0m | \u001b[32m\u001b[1mSUCCESS \u001b[0m | \u001b[36manarci_toolz.anarci_tool\u001b[0m:\u001b[36mrun_parallel_anarci\u001b[0m:\u001b[36m104\u001b[0m - \u001b[32m\u001b[1mANARCI parallel processing complete\u001b[0m\n",
      "\u001b[32m2025-07-01 22:51:52.782\u001b[0m | \u001b[32m\u001b[1mSUCCESS \u001b[0m | \u001b[36manarci_toolz.pipeline\u001b[0m:\u001b[36mrun_anarci_toolz\u001b[0m:\u001b[36m86\u001b[0m - \u001b[32m\u001b[1manarci-toolz run complete.\u001b[0m\n"
     ]
    }
   ],
   "source": [
    "df_result_imgt = run_anarci_toolz(\n",
    "    df=df_long,\n",
    "    scheme=\"imgt\",\n",
    "    allowed_species=[\"human\"],\n",
    "    seq_aa_header=\"sequence_aa\",\n",
    "    retain_indices=True)"
   ]
  },
  {
   "cell_type": "code",
   "execution_count": 7,
   "id": "14c1c830",
   "metadata": {},
   "outputs": [],
   "source": [
    "filename_kabat = f\"{SAMPLE_NAME}_result_anarci_kabat.csv\"\n",
    "filename_imgt = f\"{SAMPLE_NAME}_result_anarci_imgt.csv\""
   ]
  },
  {
   "cell_type": "code",
   "execution_count": 8,
   "id": "7a400654",
   "metadata": {},
   "outputs": [],
   "source": [
    "df_result_kabat.to_csv(filename_kabat, index=False)\n",
    "df_result_imgt.to_csv(filename_imgt, index=False)"
   ]
  },
  {
   "cell_type": "code",
   "execution_count": 9,
   "id": "4032ca51",
   "metadata": {},
   "outputs": [
    {
     "name": "stdout",
     "output_type": "stream",
     "text": [
      "Uploaded NI006_result_anarci_kabat.csv to s3://bbio-data-platform/dev/ab-discovery/anarci/NI006_result_anarci_kabat.csv\n",
      "Uploaded NI006_result_anarci_imgt.csv to s3://bbio-data-platform/dev/ab-discovery/anarci/NI006_result_anarci_imgt.csv\n"
     ]
    }
   ],
   "source": [
    "# Move to S3:\n",
    "s3 = boto3.client('s3')\n",
    "\n",
    "bucket_name = 'bbio-data-platform'\n",
    "\n",
    "# Upload the file\n",
    "for local_file in [filename_kabat, filename_imgt]:\n",
    "    s3_key = f'dev/ab-discovery/anarci/{local_file}'\n",
    "    s3.upload_file(local_file, bucket_name, s3_key)\n",
    "\n",
    "    print(f\"Uploaded {local_file} to s3://{bucket_name}/{s3_key}\")"
   ]
  },
  {
   "cell_type": "code",
   "execution_count": null,
   "id": "c2f8fae3",
   "metadata": {},
   "outputs": [],
   "source": []
  }
 ],
 "metadata": {
  "kernelspec": {
   "display_name": "anarci310",
   "language": "python",
   "name": "python3"
  },
  "language_info": {
   "codemirror_mode": {
    "name": "ipython",
    "version": 3
   },
   "file_extension": ".py",
   "mimetype": "text/x-python",
   "name": "python",
   "nbconvert_exporter": "python",
   "pygments_lexer": "ipython3",
   "version": "3.10.18"
  }
 },
 "nbformat": 4,
 "nbformat_minor": 5
}
